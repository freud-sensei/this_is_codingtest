{
 "cells": [
  {
   "cell_type": "markdown",
   "metadata": {},
   "source": [
    "# 이진 탐색\n",
    "\n",
    "* 순차 탐색: 배열 내 데이터를 찾기 위해, 앞에서부터 데이터를 하나씩 확인\n",
    "* 이진 탐색: **정렬된** 리스트에서 **탐색 범위를 절반씩 좁혀가며** 데이터를 탐색\n",
    "    * 인덱스 - 시작점, 끝점, 중간점을 이용하여 탐색 범위를 설정"
   ]
  },
  {
   "cell_type": "markdown",
   "metadata": {},
   "source": [
    "## 시간 복잡도\n",
    "* 단계마다 탐색 범위를 2로 나눔 -> 연산 횟수는 $log_2^N$에 비례\n",
    "* $O(log_2 N)$"
   ]
  },
  {
   "cell_type": "code",
   "execution_count": null,
   "metadata": {},
   "outputs": [
    {
     "name": "stdout",
     "output_type": "stream",
     "text": [
      "4\n"
     ]
    }
   ],
   "source": [
    "# 재귀적 구현\n",
    "def binary_search(array, target, start, end):\n",
    "    # 데이터 없음\n",
    "    if start > end:\n",
    "        return None\n",
    "    mid = (start + end) // 2\n",
    "    \n",
    "    # 찾은 경우 중간점 인덱스 반환\n",
    "    if array[mid] == target:\n",
    "        return mid\n",
    "    # 중간점의 값보다 찾고자 하는 값이 작은 경우\n",
    "    elif array[mid] > target:\n",
    "        return binary_search(array, target, start, mid - 1)\n",
    "    # 중간점의 값보다 찾고자 하는 값이 큰 경우\n",
    "    else:\n",
    "        return binary_search(array, target, mid + 1, end)\n",
    "\n",
    "target = 7\n",
    "array = [1, 3, 5, 7, 9, 11, 13, 15, 17, 19]\n",
    "result = binary_search(array, target, 0, len(array) - 1)\n",
    "\n",
    "if result == None:\n",
    "    print(\"원소가 존재하지 않습니다.\")\n",
    "else:\n",
    "    print(result + 1)"
   ]
  },
  {
   "cell_type": "code",
   "execution_count": null,
   "metadata": {},
   "outputs": [
    {
     "name": "stdout",
     "output_type": "stream",
     "text": [
      "원소가 존재하지 않습니다.\n"
     ]
    }
   ],
   "source": [
    "# 반복문 구현\n",
    "def binary_search(array, target, start, end):\n",
    "    while start <= end:\n",
    "        mid = (start + end) // 2\n",
    "        \n",
    "        # 찾은 경우 중간점 인덱스 반환\n",
    "        if array[mid] == target:\n",
    "            return mid\n",
    "        # 중간점의 값보다 찾고자 하는 값이 작은 경우 왼쪽 확인\n",
    "        elif array[mid] > target:\n",
    "            end = mid - 1\n",
    "        # 중간점의 값보다 찾고자 하는 값이 큰 경우 오른쪽 확인\n",
    "        else:\n",
    "            start = mid + 1\n",
    "    # 데이터 없음\n",
    "    return None\n",
    "\n",
    "target = 7\n",
    "array = [1, 3, 5, 6, 9, 11, 13, 15, 17, 19]\n",
    "result = binary_search(array, target, 0, len(array) - 1)\n",
    "\n",
    "if result == None:\n",
    "    print(\"원소가 존재하지 않습니다.\")\n",
    "else:\n",
    "    print(result + 1)"
   ]
  },
  {
   "cell_type": "markdown",
   "metadata": {},
   "source": [
    "## 파이썬 이진탐색 라이브러리\n",
    "* `bisect_left(a, x)`: 정렬된 순서를 유지하면서 배열 a에 x를 삽입할 가장 왼쪽 인덱스를 반환\n",
    "* `bisect_right(a, x)`: 정렬된 순서를 유지하면서 배열 a에 x를 삽입할 가장 오른쪽 인덱스를 반환"
   ]
  },
  {
   "cell_type": "code",
   "execution_count": 7,
   "metadata": {},
   "outputs": [
    {
     "name": "stdout",
     "output_type": "stream",
     "text": [
      "2\n",
      "4\n"
     ]
    }
   ],
   "source": [
    "from bisect import bisect_left, bisect_right\n",
    "\n",
    "a = [1, 2, 4, 4, 8]\n",
    "x = 4\n",
    "\n",
    "print(bisect_left(a, x))\n",
    "print(bisect_right(a, x))"
   ]
  },
  {
   "cell_type": "code",
   "execution_count": 8,
   "metadata": {},
   "outputs": [
    {
     "name": "stdout",
     "output_type": "stream",
     "text": [
      "2\n",
      "6\n"
     ]
    }
   ],
   "source": [
    "from bisect import bisect_left, bisect_right\n",
    "\n",
    "# 값이 [left_value, right_value]인 데이터의 개수\n",
    "def count_by_range(a, left_value, right_value):\n",
    "    right_index = bisect_right(a, right_value)\n",
    "    left_index = bisect_left(a, left_value)\n",
    "    return right_index - left_index\n",
    "\n",
    "a = [1, 2, 3, 3, 3, 3, 4, 4, 8, 9]\n",
    "\n",
    "# 값이 [4, 4] 범위에 있는, 즉 4인 데이터 개수\n",
    "print(count_by_range(a, 4, 4))\n",
    "\n",
    "# 값이 [-1, 3] 범위에 있는 데이터 개수\n",
    "print(count_by_range(a, -1, 3))"
   ]
  },
  {
   "cell_type": "markdown",
   "metadata": {},
   "source": [
    "## 파라메트릭 서치\n",
    "* 최적화 문제를 결정 문제(예 / 아니오)로 바꾸어 해결하는 기법\n",
    "    * 함수의 값을 가능한 높이거나, 가능한 낮추는 등의 문제\n",
    "* 이진 탐색을 이용해 해결 가능"
   ]
  },
  {
   "cell_type": "markdown",
   "metadata": {},
   "source": [
    "# [문제] 떡볶이 떡 만들기"
   ]
  },
  {
   "cell_type": "markdown",
   "metadata": {},
   "source": [
    "![문제설명1](./images/4_1.png)"
   ]
  },
  {
   "cell_type": "markdown",
   "metadata": {},
   "source": [
    "![문제설명2](./images/4_2.png)"
   ]
  },
  {
   "cell_type": "markdown",
   "metadata": {},
   "source": [
    "\n",
    "* 절단기 높이가 커질수록, 잘린 떡의 길이는 감소한다. 절단기 높이가 작아질수록, 잘린 떡의 길이는 증가한다.\n",
    "\n",
    "* $M$만큼의 떡을 얻을 수 있으면, 절단기의 높이를 줄여서 탐색한다. $M$만큼의 떡을 얻을 수 있으면, 절단기의 높이을 늘려서 탐색한다.\n",
    "\n",
    "* 탐색 범위가 0부터 10억... 넓은 만큼 이진 탐색을 떠올리는 것이 좋다."
   ]
  },
  {
   "cell_type": "code",
   "execution_count": null,
   "metadata": {},
   "outputs": [
    {
     "name": "stdout",
     "output_type": "stream",
     "text": [
      "절단기 높이가 (0 + 19) // 2 = 9일 때\n",
      "절단해서 얻은 떡의 길이는 25\n",
      "길이가 6 이상이므로, 정답으로 9을 저장하고 절단기 길이를 늘림\n",
      "\n",
      "절단기 높이가 (10 + 19) // 2 = 14일 때\n",
      "절단해서 얻은 떡의 길이는 9\n",
      "길이가 6 이상이므로, 정답으로 14을 저장하고 절단기 길이를 늘림\n",
      "\n",
      "절단기 높이가 (15 + 19) // 2 = 17일 때\n",
      "절단해서 얻은 떡의 길이는 2\n",
      "길이가 6 미만이므로, 절단기 길이를 줄여야 함\n",
      "\n",
      "절단기 높이가 (15 + 16) // 2 = 15일 때\n",
      "절단해서 얻은 떡의 길이는 6\n",
      "길이가 6 이상이므로, 정답으로 15을 저장하고 절단기 길이를 늘림\n",
      "\n",
      "절단기 높이가 (16 + 16) // 2 = 16일 때\n",
      "절단해서 얻은 떡의 길이는 4\n",
      "길이가 6 미만이므로, 절단기 길이를 줄여야 함\n",
      "\n",
      "16 > 15 이므로, 반복문을 종료\n",
      "15\n"
     ]
    }
   ],
   "source": [
    "N, M = map(int, input().split())\n",
    "tteoks = list(map(int, input().split()))\n",
    "\n",
    "# 반복문으로 구현\n",
    "left = 0 # 설정 가능한 최저 높이\n",
    "right = max(tteoks) # 설정 가능한 최고 높이\n",
    "answer = 0 @ 정답\n",
    "\n",
    "while left <= right:\n",
    "    # 현재 절단기 높이\n",
    "    mid = (left + right) // 2\n",
    "    print(f\"절단기 높이가 ({left} + {right}) // 2 = {mid}일 때\")\n",
    "    \n",
    "    # 절단해서 얻은 길이 계산: (각 떡 길이 - 절단기 높이)의 절대값 합\n",
    "    tteok_length = 0\n",
    "    for t in tteoks:\n",
    "        tteok_length += max(0, t - mid) # 떡 길이보다 절단기 높이가 긴 경우, 0 추가\n",
    "        \n",
    "    print(f\"절단해서 얻은 떡의 길이는 {tteok_length}\")\n",
    "    \n",
    "    # 길이가 M보다 짧은 경우 -> 절단기 길이를 줄여야 함 \n",
    "    if tteok_length < M:\n",
    "        right = mid - 1\n",
    "        print(f\"길이가 {M} 미만이므로, 절단기 길이를 줄여야 함\")   \n",
    "        \n",
    "    # 길이가 M보다 길거나 같은 경우 -> 절단기 길이를 늘려야 함\n",
    "    else:\n",
    "        answer = mid # 매번 높이 최댓값을 기록\n",
    "        left = mid + 1\n",
    "        print(f\"길이가 {M} 이상이므로, 정답으로 {mid}을 저장하고 절단기 길이를 늘림\")\n",
    "    print()\n",
    "print(f\"{left} > {right} 이므로, 반복문을 종료\")\n",
    "    \n",
    "print(answer)"
   ]
  },
  {
   "cell_type": "markdown",
   "metadata": {},
   "source": [
    "# [문제] 정렬된 배열에서 특정 수의 개수 구하기\n"
   ]
  },
  {
   "cell_type": "markdown",
   "metadata": {},
   "source": [
    "![문제설명3](./images/4_3.png)"
   ]
  },
  {
   "cell_type": "markdown",
   "metadata": {},
   "source": [
    "![문제설명4](./images/4_4.png)"
   ]
  },
  {
   "cell_type": "code",
   "execution_count": null,
   "metadata": {},
   "outputs": [],
   "source": [
    "from bisect import bisect_left, bisect_right\n",
    "\n",
    "N, x = map(int, input().split())\n",
    "nums = list(map(int, input().split()))\n",
    "\n",
    "left_i = bisect_left(nums, x)\n",
    "right_i = bisect_right(nums, x)\n",
    "\n",
    "if right_i == left_i:\n",
    "    print(-1)\n",
    "else:\n",
    "    print(right_i - left_i)"
   ]
  }
 ],
 "metadata": {
  "kernelspec": {
   "display_name": "Python 3",
   "language": "python",
   "name": "python3"
  },
  "language_info": {
   "codemirror_mode": {
    "name": "ipython",
    "version": 3
   },
   "file_extension": ".py",
   "mimetype": "text/x-python",
   "name": "python",
   "nbconvert_exporter": "python",
   "pygments_lexer": "ipython3",
   "version": "3.12.9"
  }
 },
 "nbformat": 4,
 "nbformat_minor": 2
}
